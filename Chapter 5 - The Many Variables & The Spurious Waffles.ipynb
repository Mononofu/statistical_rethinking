{
 "cells": [
  {
   "cell_type": "code",
   "execution_count": 5,
   "id": "2b143f3e",
   "metadata": {},
   "outputs": [],
   "source": [
    "import matplotlib.pyplot as plt\n",
    "import numpy as np\n",
    "import polars as pl\n",
    "\n",
    "import jax\n",
    "import numpyro\n",
    "import numpyro.distributions as dist\n",
    "from numpyro.infer import Predictive, SVI, Trace_ELBO, init_to_value\n",
    "from numpyro.infer.autoguide import AutoLaplaceApproximation\n",
    "import numpyro.optim as optim\n",
    "\n",
    "import util"
   ]
  },
  {
   "cell_type": "markdown",
   "id": "47c531d8",
   "metadata": {},
   "source": [
    "# 5.1 Spurious association"
   ]
  },
  {
   "cell_type": "code",
   "execution_count": 7,
   "id": "f392856f",
   "metadata": {},
   "outputs": [
    {
     "name": "stdout",
     "output_type": "stream",
     "text": [
      "pl.DataFrame of shape (50, 13)\n",
      "\n",
      "╒═══════════════════╤═════════╤════════════════╤═══════════════╤══════════╤══════════════════╤══════════════════╕\n",
      "│ column            │ dtype   │           mean │           std │     5.5% │            94.5% │ histogram        │\n",
      "╞═══════════════════╪═════════╪════════════════╪═══════════════╪══════════╪══════════════════╪══════════════════╡\n",
      "│ Location          │ str     │                │               │          │                  │ ▂▂▂▅█▂▂▁▂▂▁      │\n",
      "├───────────────────┼─────────┼────────────────┼───────────────┼──────────┼──────────────────┼──────────────────┤\n",
      "│ Loc               │ str     │                │               │          │                  │         █        │\n",
      "├───────────────────┼─────────┼────────────────┼───────────────┼──────────┼──────────────────┼──────────────────┤\n",
      "│ Population        │ f64     │      6.1196    │      6.87616  │  0.6578  │     18.9769      │ █▄▄▁             │\n",
      "├───────────────────┼─────────┼────────────────┼───────────────┼──────────┼──────────────────┼──────────────────┤\n",
      "│ MedianAgeMarriage │ f64     │     26.054     │      1.24363  │ 24.2695  │     28.261       │ ▁ ▂ ▃▄█▅▂▂▁ ▁    │\n",
      "├───────────────────┼─────────┼────────────────┼───────────────┼──────────┼──────────────────┼──────────────────┤\n",
      "│ Marriage          │ f64     │     20.114     │      3.79791  │ 15.2085  │     26.4915      │ ▁▄▄▆▅▆█▃▅▂▁▂▂ ▁▁ │\n",
      "├───────────────────┼─────────┼────────────────┼───────────────┼──────────┼──────────────────┼──────────────────┤\n",
      "│ Marriage SE       │ f64     │      1.3994    │      0.796975 │  0.5495  │      2.9022      │ ██▅▇▅▃▄▁▁▃▁▃   ▁ │\n",
      "├───────────────────┼─────────┼────────────────┼───────────────┼──────────┼──────────────────┼──────────────────┤\n",
      "│ Divorce           │ f64     │      9.688     │      1.82081  │  6.6695  │     12.7305      │ ▂▂▁▃▆▃▄▄█▃▆▃ ▁▄▁ │\n",
      "├───────────────────┼─────────┼────────────────┼───────────────┼──────────┼──────────────────┼──────────────────┤\n",
      "│ Divorce SE        │ f64     │      0.9618    │      0.525367 │  0.34085 │      1.89305     │ ▃▆▅█▄▂▂▁▂ ▁▂     │\n",
      "├───────────────────┼─────────┼────────────────┼───────────────┼──────────┼──────────────────┼──────────────────┤\n",
      "│ WaffleHouses      │ i64     │     32.34      │     65.7896   │  0       │    135.745       │ █                │\n",
      "├───────────────────┼─────────┼────────────────┼───────────────┼──────────┼──────────────────┼──────────────────┤\n",
      "│ South             │ i64     │      0.28      │      0.453557 │  0       │      1           │ █              ▃ │\n",
      "├───────────────────┼─────────┼────────────────┼───────────────┼──────────┼──────────────────┼──────────────────┤\n",
      "│ Slaves1860        │ i64     │  79378.3       │ 149731        │  0       │ 435553           │ █                │\n",
      "├───────────────────┼─────────┼────────────────┼───────────────┼──────────┼──────────────────┼──────────────────┤\n",
      "│ Population1860    │ i64     │ 628729         │ 781313        │  0       │      1.90336e+06 │ █▂▂▁▁▁           │\n",
      "├───────────────────┼─────────┼────────────────┼───────────────┼──────────┼──────────────────┼──────────────────┤\n",
      "│ PropSlaves1860    │ f64     │      0.0940513 │      0.174449 │  0       │      0.4561      │ █                │\n",
      "╘═══════════════════╧═════════╧════════════════╧═══════════════╧══════════╧══════════════════╧══════════════════╛\n"
     ]
    }
   ],
   "source": [
    "wd = pl.read_csv(\"data/WaffleDivorce.csv\", sep=\";\")\n",
    "print(util.summarize(wd))"
   ]
  },
  {
   "cell_type": "code",
   "execution_count": 20,
   "id": "46f4928e",
   "metadata": {},
   "outputs": [
    {
     "name": "stderr",
     "output_type": "stream",
     "text": [
      "100%|██████████████████████████████████████████████████████████████████████████████████████████████| 1000/1000 [00:00<00:00, 2326.15it/s, init loss: 3201.7393, avg. loss [951-1000]: 60.7879]\n"
     ]
    },
    {
     "name": "stdout",
     "output_type": "stream",
     "text": [
      "pl.DataFrame of shape (1000, 4)\n",
      "\n",
      "╒══════════╤═════════╤═════════════╤═══════════╤═══════════╤═══════════╤══════════════════╕\n",
      "│ column   │ dtype   │        mean │       std │      5.5% │     94.5% │ histogram        │\n",
      "╞══════════╪═════════╪═════════════╪═══════════╪═══════════╪═══════════╪══════════════════╡\n",
      "│ a        │ f32     │ -0.00171026 │ 0.0960137 │ -0.154456 │  0.143987 │   ▁▂▄▅▇█▆▆▄▂     │\n",
      "├──────────┼─────────┼─────────────┼───────────┼───────────┼───────────┼──────────────────┤\n",
      "│ bA       │ f32     │ -0.607178   │ 0.160442  │ -0.857274 │ -0.350195 │    ▁▂▄▅▇█▇▆▄▂▁   │\n",
      "├──────────┼─────────┼─────────────┼───────────┼───────────┼───────────┼──────────────────┤\n",
      "│ bM       │ f32     │ -0.0591115  │ 0.155485  │ -0.308416 │  0.188886 │    ▁▂▄▅▇█▇▅▃▁    │\n",
      "├──────────┼─────────┼─────────────┼───────────┼───────────┼───────────┼──────────────────┤\n",
      "│ sigma    │ f32     │  0.795513   │ 0.0770277 │  0.676315 │  0.922754 │   ▂▃▅▆▇█▆▄▂▁     │\n",
      "╘══════════╧═════════╧═════════════╧═══════════╧═══════════╧═══════════╧══════════════════╛\n"
     ]
    }
   ],
   "source": [
    "means = {}\n",
    "stds = {}\n",
    "for k in ['Marriage', 'MedianAgeMarriage', 'Divorce']:\n",
    "    means[k] = wd[k].mean()\n",
    "    stds[k] = wd[k].std()\n",
    "    \n",
    "def standard(k, v):\n",
    "    return (v - means[k]) / stds[k]\n",
    "\n",
    "def model(M, A, D=None):\n",
    "    a = numpyro.sample(\"a\", dist.Normal(0, 0.2))\n",
    "    bM = numpyro.sample(\"bM\", dist.Normal(0, 0.5))\n",
    "    bA = numpyro.sample(\"bA\", dist.Normal(0, 0.5))\n",
    "    sigma = numpyro.sample(\"sigma\", dist.Exponential(1))\n",
    "    mu = numpyro.deterministic(\"mu\", a + bM * standard('Marriage', M) + bA * standard('MedianAgeMarriage', A))\n",
    "    numpyro.sample(\"D\", dist.Normal(mu, sigma), obs=standard('Divorce', D))\n",
    "\n",
    "\n",
    "m5_3 = AutoLaplaceApproximation(model)\n",
    "svi = SVI(\n",
    "    model, m5_3, optim.Adam(1), Trace_ELBO(), M=wd['Marriage'].to_numpy(), \n",
    "    A=wd['MedianAgeMarriage'].to_numpy(), D=wd['Divorce'].to_numpy()\n",
    ")\n",
    "svi_result = svi.run(jax.random.PRNGKey(0), 1000)\n",
    "p5_3 = svi_result.params\n",
    "post = m5_3.sample_posterior(jax.random.PRNGKey(1), p5_3, (1000,))\n",
    "post.pop('mu')\n",
    "post = pl.DataFrame({k: np.array(v) for k, v in post.items()})\n",
    "print(util.summarize(post))"
   ]
  },
  {
   "cell_type": "code",
   "execution_count": null,
   "id": "c6d6329e",
   "metadata": {},
   "outputs": [],
   "source": []
  }
 ],
 "metadata": {
  "kernelspec": {
   "display_name": "Python 3 (ipykernel)",
   "language": "python",
   "name": "python3"
  },
  "language_info": {
   "codemirror_mode": {
    "name": "ipython",
    "version": 3
   },
   "file_extension": ".py",
   "mimetype": "text/x-python",
   "name": "python",
   "nbconvert_exporter": "python",
   "pygments_lexer": "ipython3",
   "version": "3.8.10"
  }
 },
 "nbformat": 4,
 "nbformat_minor": 5
}
