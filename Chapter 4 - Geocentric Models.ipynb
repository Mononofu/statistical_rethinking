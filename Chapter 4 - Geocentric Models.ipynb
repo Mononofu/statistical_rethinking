{
 "cells": [
  {
   "cell_type": "code",
   "execution_count": 10,
   "id": "edc9b8a6",
   "metadata": {},
   "outputs": [],
   "source": [
    "import matplotlib.pyplot as plt\n",
    "import numpy as np\n",
    "import polars as pl\n",
    "\n",
    "import util"
   ]
  },
  {
   "cell_type": "markdown",
   "id": "f89b55f3",
   "metadata": {},
   "source": [
    "## 4.1.1 Normal by Addition"
   ]
  },
  {
   "cell_type": "code",
   "execution_count": 11,
   "id": "454b9091",
   "metadata": {},
   "outputs": [
    {
     "data": {
      "image/png": "[encoded data removed]",
      "text/plain": [
       "<Figure size 1296x432 with 3 Axes>"
      ]
     },
     "metadata": {
      "needs_background": "light"
     },
     "output_type": "display_data"
    }
   ],
   "source": [
    "rng = np.random.RandomState(42)\n",
    "\n",
    "fig, axs = plt.subplots(1, 3, figsize=(18, 6)) \n",
    "\n",
    "for i, n_steps in enumerate([4, 8, 16]):\n",
    "    pos = rng.uniform(-1, 1, size=(10000, n_steps))\n",
    "    \n",
    "    ax = axs[i]\n",
    "    ax.hist(pos.sum(-1), bins=50)"
   ]
  },
  {
   "cell_type": "markdown",
   "id": "2425b670",
   "metadata": {},
   "source": [
    "# 4.3 Gaussian model of height"
   ]
  },
  {
   "cell_type": "code",
   "execution_count": 12,
   "id": "00c40544",
   "metadata": {},
   "outputs": [
    {
     "name": "stdout",
     "output_type": "stream",
     "text": [
      "[pl.DataFrame of shape (544, 4):\n",
      "┌────────┬───────┬───────────┬────────────┬───────────┬──────────┬───────────┬──────────────────┐\n",
      "│ column ┆ dtype ┆ median    ┆ mean       ┆ std       ┆ 5.5%     ┆ 94.5%     ┆ histogram        │\n",
      "│ ---    ┆ ---   ┆ ---       ┆ ---        ┆ ---       ┆ ---      ┆ ---       ┆ ---              │\n",
      "│ str    ┆ str   ┆ f64       ┆ f64        ┆ f64       ┆ f64      ┆ f64       ┆ str              │\n",
      "╞════════╪═══════╪═══════════╪════════════╪═══════════╪══════════╪═══════════╪══════════════════╡\n",
      "│ height ┆ f64   ┆ 148.59    ┆ 138.263596 ┆ 27.602448 ┆ 81.10855 ┆ 165.735   ┆     ▁  ▁▁▁▁▄█▆▂  │\n",
      "├╌╌╌╌╌╌╌╌┼╌╌╌╌╌╌╌┼╌╌╌╌╌╌╌╌╌╌╌┼╌╌╌╌╌╌╌╌╌╌╌╌┼╌╌╌╌╌╌╌╌╌╌╌┼╌╌╌╌╌╌╌╌╌╌┼╌╌╌╌╌╌╌╌╌╌╌┼╌╌╌╌╌╌╌╌╌╌╌╌╌╌╌╌╌╌┤\n",
      "│ weight ┆ f64   ┆ 40.057844 ┆ 35.610618  ┆ 14.719178 ┆ 9.360721 ┆ 54.502894 ┆ ▁▂▄▂▂▁▁▁▄▆█▇▅▃▁  │\n",
      "├╌╌╌╌╌╌╌╌┼╌╌╌╌╌╌╌┼╌╌╌╌╌╌╌╌╌╌╌┼╌╌╌╌╌╌╌╌╌╌╌╌┼╌╌╌╌╌╌╌╌╌╌╌┼╌╌╌╌╌╌╌╌╌╌┼╌╌╌╌╌╌╌╌╌╌╌┼╌╌╌╌╌╌╌╌╌╌╌╌╌╌╌╌╌╌┤\n",
      "│ age    ┆ f64   ┆ 27.0      ┆ 29.344393  ┆ 20.746888 ┆ 1.0      ┆ 66.135    ┆ █▄▅▄▅▄▄▄▃▂▁▁▁    │\n",
      "├╌╌╌╌╌╌╌╌┼╌╌╌╌╌╌╌┼╌╌╌╌╌╌╌╌╌╌╌┼╌╌╌╌╌╌╌╌╌╌╌╌┼╌╌╌╌╌╌╌╌╌╌╌┼╌╌╌╌╌╌╌╌╌╌┼╌╌╌╌╌╌╌╌╌╌╌┼╌╌╌╌╌╌╌╌╌╌╌╌╌╌╌╌╌╌┤\n",
      "│ male   ┆ i64   ┆ 0.0       ┆ 0.472426   ┆ 0.499699  ┆ 0.0      ┆ 1.0       ┆ █              ▇ │\n",
      "└────────┴───────┴───────────┴────────────┴───────────┴──────────┴───────────┴──────────────────┘\n"
     ]
    }
   ],
   "source": [
    "df = pl.read_csv(\"howell1.csv\", sep=\";\")\n",
    "print(util.summarize(df))"
   ]
  },
  {
   "cell_type": "code",
   "execution_count": 13,
   "id": "31fef90d",
   "metadata": {},
   "outputs": [
    {
     "name": "stdout",
     "output_type": "stream",
     "text": [
      "[pl.DataFrame of shape (352, 4):\n",
      "┌────────┬───────┬──────────┬────────────┬───────────┬───────────┬───────────┬──────────────────┐\n",
      "│ column ┆ dtype ┆ median   ┆ mean       ┆ std       ┆ 5.5%      ┆ 94.5%     ┆ histogram        │\n",
      "│ ---    ┆ ---   ┆ ---      ┆ ---        ┆ ---       ┆ ---       ┆ ---       ┆ ---              │\n",
      "│ str    ┆ str   ┆ f64      ┆ f64        ┆ f64       ┆ f64       ┆ f64       ┆ str              │\n",
      "╞════════╪═══════╪══════════╪════════════╪═══════════╪═══════════╪═══════════╪══════════════════╡\n",
      "│ height ┆ f64   ┆ 154.305  ┆ 154.597093 ┆ 7.742332  ┆ 142.875   ┆ 167.005   ┆  ▁▃▄▆█▅▅▅▆▃▁▁    │\n",
      "├╌╌╌╌╌╌╌╌┼╌╌╌╌╌╌╌┼╌╌╌╌╌╌╌╌╌╌┼╌╌╌╌╌╌╌╌╌╌╌╌┼╌╌╌╌╌╌╌╌╌╌╌┼╌╌╌╌╌╌╌╌╌╌╌┼╌╌╌╌╌╌╌╌╌╌╌┼╌╌╌╌╌╌╌╌╌╌╌╌╌╌╌╌╌╌┤\n",
      "│ weight ┆ f64   ┆ 44.79221 ┆ 44.990486  ┆ 6.456708  ┆ 35.137504 ┆ 55.765876 ┆ ▁▁▄▄▅▆▆▅█▄▃▂▃    │\n",
      "├╌╌╌╌╌╌╌╌┼╌╌╌╌╌╌╌┼╌╌╌╌╌╌╌╌╌╌┼╌╌╌╌╌╌╌╌╌╌╌╌┼╌╌╌╌╌╌╌╌╌╌╌┼╌╌╌╌╌╌╌╌╌╌╌┼╌╌╌╌╌╌╌╌╌╌╌┼╌╌╌╌╌╌╌╌╌╌╌╌╌╌╌╌╌╌┤\n",
      "│ age    ┆ f64   ┆ 39.0     ┆ 41.138494  ┆ 15.967855 ┆ 20.0      ┆ 70.0      ┆ ▆▅▇▄▄█▃▃▃▁▃▁▁    │\n",
      "├╌╌╌╌╌╌╌╌┼╌╌╌╌╌╌╌┼╌╌╌╌╌╌╌╌╌╌┼╌╌╌╌╌╌╌╌╌╌╌╌┼╌╌╌╌╌╌╌╌╌╌╌┼╌╌╌╌╌╌╌╌╌╌╌┼╌╌╌╌╌╌╌╌╌╌╌┼╌╌╌╌╌╌╌╌╌╌╌╌╌╌╌╌╌╌┤\n",
      "│ male   ┆ i64   ┆ 0.0      ┆ 0.46875    ┆ 0.499733  ┆ 0.0       ┆ 1.0       ┆ █              ▇ │\n",
      "└────────┴───────┴──────────┴────────────┴───────────┴───────────┴───────────┴──────────────────┘\n"
     ]
    }
   ],
   "source": [
    "d2 = df.filter(pl.col('age') >= 18)\n",
    "print(util.summarize(d2))"
   ]
  },
  {
   "cell_type": "markdown",
   "id": "8b4bd94a",
   "metadata": {},
   "source": [
    "## 4.3.5 Finding the posterior distribution with quap"
   ]
  },
  {
   "cell_type": "code",
   "execution_count": 14,
   "id": "0f1e0f85",
   "metadata": {},
   "outputs": [
    {
     "name": "stderr",
     "output_type": "stream",
     "text": [
      "100%|██████████████████████████████████████████████████████████████████████████████████████████| 2000/2000 [00:00<00:00, 4563.39it/s, init loss: 4000.1155, avg. loss [1901-2000]: 1226.0389]\n"
     ]
    }
   ],
   "source": [
    "import jax\n",
    "import numpyro\n",
    "import numpyro.distributions as dist\n",
    "from numpyro.infer import Predictive, SVI, Trace_ELBO, init_to_value\n",
    "from numpyro.infer.autoguide import AutoLaplaceApproximation\n",
    "import numpyro.optim as optim\n",
    "\n",
    "\n",
    "def flist(height):\n",
    "    mu = numpyro.sample(\"mu\", dist.Normal(178, 20))\n",
    "    sigma = numpyro.sample(\"sigma\", dist.Uniform(0, 50))\n",
    "    numpyro.sample(\"height\", dist.Normal(mu, sigma), obs=height)\n",
    "    \n",
    "m4_1 = AutoLaplaceApproximation(flist)\n",
    "svi = SVI(flist, m4_1, optim.Adam(1), Trace_ELBO(), height=d2['height'].to_numpy())\n",
    "svi_result = svi.run(jax.random.PRNGKey(0), 2000)\n",
    "p4_1 = svi_result.params"
   ]
  },
  {
   "cell_type": "code",
   "execution_count": 15,
   "id": "42b6d185",
   "metadata": {},
   "outputs": [
    {
     "name": "stdout",
     "output_type": "stream",
     "text": [
      "[pl.DataFrame of shape (10000, 2):\n",
      "┌────────┬───────┬────────────┬────────────┬──────────┬────────────┬────────────┬──────────────────┐\n",
      "│ column ┆ dtype ┆ median     ┆ mean       ┆ std      ┆ 5.5%       ┆ 94.5%      ┆ histogram        │\n",
      "│ ---    ┆ ---   ┆ ---        ┆ ---        ┆ ---      ┆ ---        ┆ ---        ┆ ---              │\n",
      "│ str    ┆ str   ┆ f32        ┆ f64        ┆ f32      ┆ f32        ┆ f32        ┆ str              │\n",
      "╞════════╪═══════╪════════════╪════════════╪══════════╪════════════╪════════════╪══════════════════╡\n",
      "│ mu     ┆ f32   ┆ 154.605164 ┆ 154.608674 ┆ 0.412593 ┆ 153.949341 ┆ 155.268768 ┆    ▁▂▅▇█▇▅▃▁     │\n",
      "├╌╌╌╌╌╌╌╌┼╌╌╌╌╌╌╌┼╌╌╌╌╌╌╌╌╌╌╌╌┼╌╌╌╌╌╌╌╌╌╌╌╌┼╌╌╌╌╌╌╌╌╌╌┼╌╌╌╌╌╌╌╌╌╌╌╌┼╌╌╌╌╌╌╌╌╌╌╌╌┼╌╌╌╌╌╌╌╌╌╌╌╌╌╌╌╌╌╌┤\n",
      "│ sigma  ┆ f32   ┆ 7.739341   ┆ 7.745559   ┆ 0.291966 ┆ 7.286161   ┆ 8.225402   ┆    ▂▄▆█▇▆▃▁      │\n",
      "└────────┴───────┴────────────┴────────────┴──────────┴────────────┴────────────┴──────────────────┘\n"
     ]
    }
   ],
   "source": [
    "samples = m4_1.sample_posterior(jax.random.PRNGKey(1), p4_1, (10000,))\n",
    "samples = pl.DataFrame({k: np.array(v) for k, v in samples.items()})\n",
    "print(util.summarize(samples))"
   ]
  }
 ],
 "metadata": {
  "kernelspec": {
   "display_name": "Python 3 (ipykernel)",
   "language": "python",
   "name": "python3"
  },
  "language_info": {
   "codemirror_mode": {
    "name": "ipython",
    "version": 3
   },
   "file_extension": ".py",
   "mimetype": "text/x-python",
   "name": "python",
   "nbconvert_exporter": "python",
   "pygments_lexer": "ipython3",
   "version": "3.8.10"
  }
 },
 "nbformat": 4,
 "nbformat_minor": 5
}
